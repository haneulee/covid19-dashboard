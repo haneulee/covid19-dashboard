{
 "cells": [
  {
   "cell_type": "code",
   "execution_count": 1,
   "metadata": {},
   "outputs": [
    {
     "name": "stdout",
     "output_type": "stream",
     "text": [
      "hello\n"
     ]
    }
   ],
   "source": []
  },
  {
   "cell_type": "code",
   "execution_count": 2,
   "metadata": {},
   "outputs": [
    {
     "data": {
      "text/plain": [
       "0             Afghanistan\n",
       "1                 Albania\n",
       "2                 Algeria\n",
       "3                 Andorra\n",
       "4                  Angola\n",
       "              ...        \n",
       "183    West Bank and Gaza\n",
       "184        Western Sahara\n",
       "185                 Yemen\n",
       "186                Zambia\n",
       "187              Zimbabwe\n",
       "Name: Country_Region, Length: 188, dtype: object"
      ]
     },
     "execution_count": 2,
     "metadata": {},
     "output_type": "execute_result"
    }
   ],
   "source": [
    "import pandas as pd\n",
    "from data import countries_df\n",
    "\n",
    "df = countries_df.sort_values(\"Country_Region\").reset_index()\n",
    "df = df[\"Country_Region\"]\n",
    "\n",
    "df\n",
    "\n",
    "# conditions = [\"connfirmed\", \"deaths\", \"recovered\"]\n",
    "\n",
    "# def make_country_df(condition, country):\n",
    "    \n",
    "#     df = pd.read_csv(\"data/time_confirmed.csv\")\n",
    "\n",
    "#     df = df.loc[df[\"Country/Region\"] == \"Afghanistan\"]\n",
    "#     df = df.drop(columns=[\"Province/State\", \"Country/Region\", \"Lat\", \"Long\"]).sum().reset_index(name=\"confirmed\")\n",
    "\n",
    "#     df = df.rename(columns={\"index\": \"date\"})\n",
    "\n",
    "#     return df\n",
    "\n",
    "# final_df = None\n",
    "\n",
    "# for condition in conditions:\n",
    "#     condition_df = make_country_df(condition, \"Korea, South\")\n",
    "#     if final_df is None:\n",
    "#         final_df = condition_df\n",
    "#     else:\n",
    "#         final_df = final_df.merge(condition_df)\n",
    "        \n",
    "# final_df"
   ]
  },
  {
   "cell_type": "code",
   "execution_count": null,
   "metadata": {},
   "outputs": [],
   "source": []
  },
  {
   "cell_type": "code",
   "execution_count": null,
   "metadata": {},
   "outputs": [],
   "source": []
  },
  {
   "cell_type": "code",
   "execution_count": null,
   "metadata": {},
   "outputs": [],
   "source": []
  }
 ],
 "metadata": {
  "kernelspec": {
   "display_name": "Python 3",
   "language": "python",
   "name": "python3"
  },
  "language_info": {
   "codemirror_mode": {
    "name": "ipython",
    "version": 3
   },
   "file_extension": ".py",
   "mimetype": "text/x-python",
   "name": "python",
   "nbconvert_exporter": "python",
   "pygments_lexer": "ipython3",
   "version": "3.7.4"
  }
 },
 "nbformat": 4,
 "nbformat_minor": 4
}
